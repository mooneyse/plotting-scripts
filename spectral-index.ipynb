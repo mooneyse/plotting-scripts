{
 "cells": [
  {
   "cell_type": "markdown",
   "metadata": {},
   "source": [
    "# Theory\n",
    "\n",
    "We can calculate the spectral index, $\\alpha$, between two flux densities:\n",
    "\\begin{align*}\n",
    "S_\\nu &\\propto \\nu^{-\\alpha} \\\\ \n",
    "\\frac{S_1}{S_2} &= \\Big(\\frac{\\nu_1}{\\nu_2}\\Big)^{-\\alpha} \\\\\n",
    "&= \\Big(\\frac{\\nu_2}{\\nu_1}\\Big)^{\\alpha} \\\\\n",
    "\\log \\Big(\\frac{S_1}{S_2}\\Big) &= \\log \\Big(\\frac{\\nu_2}{\\nu_1}\\Big)^{\\alpha} \\\\\n",
    "&= \\alpha \\log \\Big(\\frac{\\nu_2}{\\nu_1}\\Big) \\\\\n",
    "\\alpha &= \\frac{\\log \\big(\\frac{S_1}{S_2}\\big)}{\\log \\big(\\frac{\\nu_2}{\\nu_1}\\big)}\n",
    "\\end{align*}\n",
    "For the radio index, we've used multiple surveys."
   ]
  },
  {
   "cell_type": "markdown",
   "metadata": {},
   "source": [
    "# Import stuff"
   ]
  },
  {
   "cell_type": "code",
   "execution_count": null,
   "metadata": {
    "collapsed": true
   },
   "outputs": [],
   "source": [
    "import numpy as np\n",
    "import matplotlib.pyplot as plt\n",
    "from ipynb.fs.full.redshift import get_data\n",
    "from astropy.io import fits\n",
    "from matplotlib import rcParams"
   ]
  },
  {
   "cell_type": "markdown",
   "metadata": {},
   "source": [
    "# Define functions"
   ]
  },
  {
   "cell_type": "code",
   "execution_count": null,
   "metadata": {
    "collapsed": false
   },
   "outputs": [],
   "source": [
    "def averager(label, data):\n",
    "    label = '<' + label + '>'\n",
    "    label = label.ljust(8)\n",
    "    average = round(np.mean(data), 4)\n",
    "    uncertainty = round(np.std(data) / np.sqrt(len(data)), 4) # population standard deviation\n",
    "    print(label + ' = ' + str(average) + ' +/- ' + str(uncertainty))\n",
    "\n",
    "def plotting(BLLac, FSRQ, other, plot, y_limit): # adapted from redshift.ipynb\n",
    "    \n",
    "    color = 'black'\n",
    "    if plot:\n",
    "        color = 'white'\n",
    "\n",
    "    bins = np.linspace(-1.4, 1.4, 8)\n",
    "    plt.rcParams['font.family'] = 'serif'\n",
    "    plt.figure(figsize = (13.92, 8.60))\n",
    "\n",
    "    plt.hist(BLLac, bins = bins, alpha = 1, lw = 4, histtype = 'step', fill = False, color = 'red', label = 'BL Lacs')\n",
    "    plt.hist(FSRQ, bins = bins, alpha = 1, lw = 4, histtype = 'step', fill = False, color = 'blue', label = 'FSRQs', linestyle = '--')\n",
    "    plt.hist(other, bins = bins, alpha = 1, lw = 4, histtype = 'step', fill = False, color = 'black', label = 'Others', linestyle = '-.')\n",
    "\n",
    "    plt.xlabel(r'$\\alpha$', fontsize = 30, color = color)\n",
    "    plt.ylabel('$N$', fontsize = 30, color = color)\n",
    "    \n",
    "    plt.xlim(-1.4, 1.4)\n",
    "    plt.ylim(0, y_limit)\n",
    "\n",
    "    plt.xticks([-1.2, -0.8, -0.4, 0, 0.4, 0.8, 1.2], fontsize = 30, color = color)\n",
    "    plt.yticks(fontsize = 30, color = color)\n",
    "\n",
    "    ax = plt.gca()\n",
    "    yticks = ax.yaxis.get_major_ticks() \n",
    "    yticks[0].label1.set_visible(False)\n",
    "\n",
    "    legend = plt.legend(bbox_to_anchor = (0, 1.0, 1, 0), loc = 'lower left', mode = 'expand', numpoints = 1, fontsize = 30, ncol = 4,\n",
    "                      frameon = False)\n",
    "    plt.setp(legend.get_texts(), color = color)\n",
    "\n",
    "    if not plot:\n",
    "        plt.savefig('spectral-index.pdf', bbox_inches = 'tight', format = 'pdf')\n",
    "    elif plot:\n",
    "        plt.show()\n",
    "\n",
    "    plt.show()"
   ]
  },
  {
   "cell_type": "markdown",
   "metadata": {},
   "source": [
    "# Getting the index data\n",
    "\n",
    "Colour | Key    | Catalogue | Frequency\n",
    "-------|------- | --------- | ---------:\n",
    "Purple | Up     | VLSSr     | 73.8\n",
    "Red    | Circle | LoTSS     | 144\n",
    "Blue   | Square | TGSS-ADR1 | 150\n",
    "Brown  | Right  | 7C        | 151\n",
    "Green  | Left   | WENSS     | 325\n",
    "Navy   | Down   | NVSS      | 1400"
   ]
  },
  {
   "cell_type": "code",
   "execution_count": null,
   "metadata": {
    "collapsed": false
   },
   "outputs": [],
   "source": [
    "x = fits.open('/home/sean/Downloads/smooney_lotss_hetdex_allsurveys_wenssadjusted.fits') # from Joe Callingham\n",
    "\n",
    "name    = x[1].data['LoTSS_name'    ]\n",
    "alpha   = x[1].data['alpha_tot'     ]\n",
    "alpha_e = x[1].data['alpha_tot_error']\n",
    "S_vlssr = x[1].data['S_vlssr'       ]\n",
    "S_lotss = x[1].data['S_144_measured']\n",
    "S_tgss  = x[1].data['S_tgss'        ]\n",
    "S_7c    = x[1].data['S_7C'          ]\n",
    "S_wenss = x[1].data['S_wenss'       ]\n",
    "S_nvss  = x[1].data['S_nvss'        ]\n",
    "\n",
    "# for i in range(len(name)):\n",
    "#     print(name[i], alpha[i], alpha_e[i])\n",
    "\n",
    "# x[1].header\n",
    "x.close()"
   ]
  },
  {
   "cell_type": "markdown",
   "metadata": {},
   "source": [
    "# Make the plot"
   ]
  },
  {
   "cell_type": "code",
   "execution_count": null,
   "metadata": {
    "collapsed": false
   },
   "outputs": [],
   "source": [
    "if __name__ == '__main__':\n",
    "    BLLac = get_data(5, 'spectral-index.txt')\n",
    "    FSRQ = get_data(6, 'spectral-index.txt')\n",
    "    other = get_data(7, 'spectral-index.txt')\n",
    "    \n",
    "    averager('total', BLLac + FSRQ + other)\n",
    "    averager('BL Lac', BLLac)\n",
    "    averager('FSRQ', FSRQ)\n",
    "    averager('other', other)"
   ]
  },
  {
   "cell_type": "code",
   "execution_count": null,
   "metadata": {
    "collapsed": false
   },
   "outputs": [],
   "source": [
    "if __name__ == '__main__':\n",
    "    plotting(BLLac, FSRQ, other, False, 21)"
   ]
  }
 ],
 "metadata": {
  "anaconda-cloud": {},
  "kernelspec": {
   "display_name": "Python [default]",
   "language": "python",
   "name": "python3"
  },
  "language_info": {
   "codemirror_mode": {
    "name": "ipython",
    "version": 3
   },
   "file_extension": ".py",
   "mimetype": "text/x-python",
   "name": "python",
   "nbconvert_exporter": "python",
   "pygments_lexer": "ipython3",
   "version": "3.5.2"
  }
 },
 "nbformat": 4,
 "nbformat_minor": 1
}

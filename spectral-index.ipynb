{
 "cells": [
  {
   "cell_type": "markdown",
   "metadata": {},
   "source": [
    "# Import stuff"
   ]
  },
  {
   "cell_type": "code",
   "execution_count": 1,
   "metadata": {
    "collapsed": true
   },
   "outputs": [],
   "source": [
    "import numpy as np\n",
    "import matplotlib.pyplot as plt\n",
    "from ipynb.fs.full.redshift import get_data\n",
    "from matplotlib import rcParams"
   ]
  },
  {
   "cell_type": "markdown",
   "metadata": {},
   "source": [
    "# Define function"
   ]
  },
  {
   "cell_type": "code",
   "execution_count": 12,
   "metadata": {
    "collapsed": true
   },
   "outputs": [],
   "source": [
    "def plotting(BLLac, FSRQ, other, plot, y_limit): # adapted from redshift.ipynb\n",
    "    \n",
    "    color = 'black'\n",
    "\n",
    "    if plot:\n",
    "        color = 'white'\n",
    "\n",
    "    bins = np.linspace(-1.5, 1.5, 6)\n",
    "    \n",
    "    plt.rcParams['font.family'] = 'serif'\n",
    "    plt.figure(figsize = (13.92, 8.60))\n",
    "\n",
    "    plt.hist(BLLac, bins = bins, alpha = 1, lw = 4, histtype = 'step', fill = False, color = 'red', label = 'BL Lacs')\n",
    "    plt.hist(FSRQ, bins = bins, alpha = 1, lw = 4, histtype = 'step', fill = False, color = 'blue', label = 'FSRQs', linestyle = '--')\n",
    "    plt.hist(other, bins = bins, alpha = 1, lw = 4, histtype = 'step', fill = False, color = 'black', label = 'Others', linestyle = '-.')\n",
    "\n",
    "    plt.xlabel(r'$\\alpha_\\mathrm{r}$', fontsize = 30, color = color)\n",
    "    plt.ylabel('$N$', fontsize = 30, color = color)\n",
    "    plt.ylim(0, y_limit)\n",
    "\n",
    "    plt.xticks(fontsize = 30, color = color)\n",
    "    plt.yticks(fontsize = 30, color = color)\n",
    "\n",
    "    ax = plt.gca()\n",
    "    yticks = ax.yaxis.get_major_ticks() \n",
    "    yticks[0].label1.set_visible(False)\n",
    "\n",
    "    legend = plt.legend(bbox_to_anchor = (0, 1.0, 1, 0), loc = 'lower left', mode = 'expand', numpoints = 1, fontsize = 30, ncol = 4,\n",
    "                      frameon = False)\n",
    "    plt.setp(legend.get_texts(), color = color)\n",
    "\n",
    "    if not plot:\n",
    "        plt.savefig('spectral-index.pdf', bbox_inches = 'tight', format = 'pdf')\n",
    "    elif plot:\n",
    "        plt.show()\n",
    "\n",
    "    plt.show()"
   ]
  },
  {
   "cell_type": "markdown",
   "metadata": {},
   "source": [
    "# Make the plot"
   ]
  },
  {
   "cell_type": "code",
   "execution_count": 17,
   "metadata": {
    "collapsed": false
   },
   "outputs": [],
   "source": [
    "if __name__ == '__main__':\n",
    "    BLLac = get_data(5, 'spectral-index.txt')\n",
    "    FSRQ = get_data(6, 'spectral-index.txt')\n",
    "    other = get_data(7, 'spectral-index.txt')\n",
    "    \n",
    "    # plotting(BLLac, FSRQ, other, False, 25)"
   ]
  }
 ],
 "metadata": {
  "kernelspec": {
   "display_name": "Python [default]",
   "language": "python",
   "name": "python3"
  },
  "language_info": {
   "codemirror_mode": {
    "name": "ipython",
    "version": 3
   },
   "file_extension": ".py",
   "mimetype": "text/x-python",
   "name": "python",
   "nbconvert_exporter": "python",
   "pygments_lexer": "ipython3",
   "version": "3.5.2"
  }
 },
 "nbformat": 4,
 "nbformat_minor": 1
}

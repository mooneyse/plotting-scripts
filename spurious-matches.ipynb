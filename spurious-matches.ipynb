{
 "cells": [
  {
   "cell_type": "markdown",
   "metadata": {},
   "source": [
    "# Import stuff"
   ]
  },
  {
   "cell_type": "code",
   "execution_count": null,
   "metadata": {
    "collapsed": false
   },
   "outputs": [],
   "source": [
    "import numpy as np\n",
    "from random import uniform\n",
    "from astropy.io import fits"
   ]
  },
  {
   "cell_type": "markdown",
   "metadata": {},
   "source": [
    "# Load the data"
   ]
  },
  {
   "cell_type": "code",
   "execution_count": null,
   "metadata": {
    "collapsed": false
   },
   "outputs": [],
   "source": [
    "f = fits.open('/home/sean/Downloads/LOFAR_HBA_T1_DR1_catalog_v0.9.srl.fixed.fits') # LoTSS\n",
    "\n",
    "h = f[1]\n",
    "ra        = h.data['RA'       ] # degrees\n",
    "dec       = h.data['DEC'      ] # degrees\n",
    "ra_error  = h.data['E_RA_tot' ] # arcseconds\n",
    "dec_error = h.data['E_DEC_tot'] # arcseconds\n",
    "f.close()"
   ]
  },
  {
   "cell_type": "markdown",
   "metadata": {},
   "source": [
    "# Calculate LoTSS position ranges"
   ]
  },
  {
   "cell_type": "code",
   "execution_count": null,
   "metadata": {
    "collapsed": false
   },
   "outputs": [],
   "source": [
    "ra_low, ra_high, dec_low, dec_high = [], [], [], []\n",
    "\n",
    "for i in range(len(ra)):\n",
    "    ra_low.append(ra[i]    - (ra_error[i]  / (60 * 60)))\n",
    "    ra_high.append(ra[i]   + (ra_error[i]  / (60 * 60)))\n",
    "    dec_low.append(dec[i]  - (dec_error[i] / (60 * 60)))\n",
    "    dec_high.append(dec[i] + (dec_error[i] / (60 * 60)))\n",
    "    \n",
    "ra_min  = min(ra_low)\n",
    "ra_max  = max(ra_high)\n",
    "dec_min = min(dec_low)\n",
    "dec_max = max(dec_high)"
   ]
  },
  {
   "cell_type": "markdown",
   "metadata": {},
   "source": [
    "# Generate source positions to test"
   ]
  },
  {
   "cell_type": "code",
   "execution_count": null,
   "metadata": {
    "collapsed": false
   },
   "outputs": [],
   "source": [
    "ra_test, dec_test = [], []\n",
    "\n",
    "for i in range(10000):\n",
    "    ra_test.append(uniform(ra_min, ra_max))\n",
    "    dec_test.append(uniform(dec_min, dec_max))\n",
    "    \n",
    "test_error = 0.1 / (60 * 60) # degrees"
   ]
  },
  {
   "cell_type": "markdown",
   "metadata": {},
   "source": [
    "# Check for spurious cross-matches"
   ]
  },
  {
   "cell_type": "code",
   "execution_count": null,
   "metadata": {
    "collapsed": false
   },
   "outputs": [],
   "source": [
    "match = 0\n",
    "\n",
    "for i in range(len(ra_test)): # iterate through test points\n",
    "    for j in range(len(ra_low)): # iterate through catalogue\n",
    "        if ra_test[i] + test_error > ra_low[j] and ra_test[i] - test_error < ra_high[j]: # check if RA overlaps\n",
    "            if dec_test[i] + test_error > dec_low[j] and dec_test[i] - test_error < dec_high[j]: # check if declination overlaps\n",
    "                match += 1\n",
    "                print(match, ra_test[i], ra_low[j], ra_high[j], dec_test[i], dec_low[j], dec_high[j])"
   ]
  },
  {
   "cell_type": "code",
   "execution_count": null,
   "metadata": {
    "collapsed": false
   },
   "outputs": [],
   "source": [
    "fudge = 1.2\n",
    "percent = (match / len(ra_test)) * 100\n",
    "print(str(match) + '/' + str(len(ra_test)) + ' (' + str(percent) + '%; ' + str(percent * fudge) + '% with fudge)')\n",
    "print('Average LoTSS positional uncertainty = ' + str(round((np.mean(ra_error) + np.mean(dec_error)) / 2, 4)) + '\"')"
   ]
  }
 ],
 "metadata": {
  "anaconda-cloud": {},
  "kernelspec": {
   "display_name": "Python [default]",
   "language": "python",
   "name": "python3"
  },
  "language_info": {
   "codemirror_mode": {
    "name": "ipython",
    "version": 3
   },
   "file_extension": ".py",
   "mimetype": "text/x-python",
   "name": "python",
   "nbconvert_exporter": "python",
   "pygments_lexer": "ipython3",
   "version": "3.5.2"
  }
 },
 "nbformat": 4,
 "nbformat_minor": 1
}

{
 "cells": [
  {
   "cell_type": "markdown",
   "metadata": {},
   "source": [
    "# Import stuff I need"
   ]
  },
  {
   "cell_type": "code",
   "execution_count": 1,
   "metadata": {
    "collapsed": false
   },
   "outputs": [],
   "source": [
    "import astropy.constants as constant\n",
    "import matplotlib.pyplot as plt\n",
    "import numpy as np\n",
    "import scipy.integrate as integrate\n",
    "from matplotlib import rcParams\n",
    "from ipynb.fs.full.redshift import get_data"
   ]
  },
  {
   "cell_type": "markdown",
   "metadata": {},
   "source": [
    "# Define functions"
   ]
  },
  {
   "cell_type": "code",
   "execution_count": 62,
   "metadata": {
    "collapsed": true
   },
   "outputs": [],
   "source": [
    "def integral(z): # https://en.wikipedia.org/wiki/Luminosity#Radio_luminosity\n",
    "    Omega_Lambda = 0.74\n",
    "    Omega_m = 1 - Omega_Lambda\n",
    "    h = 0.71\n",
    "    H0 = 100 * h\n",
    "    return 1 / np.sqrt(Omega_Lambda + Omega_m * (1 + z) ** 3)\n",
    "\n",
    "def plotting(BLLac, FSRQ, other, plot, y_limit): # adapted from redshift.ipynb\n",
    "    \n",
    "    color = 'black'\n",
    "\n",
    "    if plot:\n",
    "        color = 'white'\n",
    "\n",
    "    bins = np.linspace(0, 1.4, 8)\n",
    "    \n",
    "    plt.rcParams['font.family'] = 'serif'\n",
    "    plt.figure(figsize = (13.92, 8.60))\n",
    "\n",
    "    plt.hist(BLLac, bins = bins, alpha = 1, lw = 4, histtype = 'step', fill = False, color = 'red', label = 'BL Lacs')\n",
    "    plt.hist(FSRQ, bins = bins, alpha = 1, lw = 4, histtype = 'step', fill = False, color = 'blue', label = 'FSRQs', linestyle = '--')\n",
    "    plt.hist(other, bins = bins, alpha = 1, lw = 4, histtype = 'step', fill = False, color = 'black', label = 'Others', linestyle = '-.')\n",
    "\n",
    "    plt.xlabel(r'$L_\\nu$ ($\\times 10^{14} \\, \\mathrm{W} \\cdot \\mathrm{Hz}^{-1}$)', fontsize = 30, color = color)\n",
    "    plt.ylabel('$N$', fontsize = 30, color = color)\n",
    "    plt.ylim(0, y_limit)\n",
    "\n",
    "    plt.xticks(fontsize = 30, color = color)\n",
    "    plt.yticks(fontsize = 30, color = color)\n",
    "\n",
    "    ax = plt.gca()\n",
    "    yticks = ax.yaxis.get_major_ticks() \n",
    "    yticks[0].label1.set_visible(False)\n",
    "\n",
    "    legend = plt.legend(bbox_to_anchor = (0, 1.0, 1, 0), loc = 'lower left', mode = 'expand', numpoints = 1, fontsize = 30, ncol = 4,\n",
    "                      frameon = False)\n",
    "    plt.setp(legend.get_texts(), color = color)\n",
    "\n",
    "    if not plot:\n",
    "        plt.savefig('luminosity.pdf', bbox_inches = 'tight', format = 'pdf')\n",
    "    elif plot:\n",
    "        plt.show()\n",
    "\n",
    "    plt.show()"
   ]
  },
  {
   "cell_type": "markdown",
   "metadata": {},
   "source": [
    "# Calculate luminosity distance"
   ]
  },
  {
   "cell_type": "code",
   "execution_count": 63,
   "metadata": {
    "collapsed": false
   },
   "outputs": [],
   "source": [
    "if __name__ == \"__main__\":\n",
    "    \n",
    "    d = []\n",
    "    z1s = get_data(0, 'luminosity.txt')\n",
    "\n",
    "    for z in z1s:\n",
    "        d.append((constant.c / H0) * integrate.quad(integral, 0, z))"
   ]
  },
  {
   "cell_type": "markdown",
   "metadata": {},
   "source": [
    "# Make the plot"
   ]
  },
  {
   "cell_type": "code",
   "execution_count": 72,
   "metadata": {
    "collapsed": false
   },
   "outputs": [],
   "source": [
    "if __name__ == \"__main__\":\n",
    "    \n",
    "    BLLac = get_data(7, 'luminosity.txt')\n",
    "    FSRQ = get_data(8, 'luminosity.txt')\n",
    "    other = get_data(9, 'luminosity.txt')\n",
    "\n",
    "    # scale the values to be plotted and remove zeroes\n",
    "    scale = 1e14\n",
    "    BLLac[:] = [x / scale for x in BLLac]\n",
    "    FSRQ[:] = [x / scale for x in FSRQ]\n",
    "    other[:] = [x / scale for x in other]\n",
    "\n",
    "    BLLac = list(filter(lambda a: a != 0, BLLac))\n",
    "    FSRQ = list(filter(lambda a: a != 0, FSRQ))\n",
    "    other = list(filter(lambda a: a != 0, other))\n",
    "\n",
    "    # plotting(BLLac, FSRQ, other, False, 21)"
   ]
  }
 ],
 "metadata": {
  "anaconda-cloud": {},
  "kernelspec": {
   "display_name": "Python [default]",
   "language": "python",
   "name": "python3"
  },
  "language_info": {
   "codemirror_mode": {
    "name": "ipython",
    "version": 3
   },
   "file_extension": ".py",
   "mimetype": "text/x-python",
   "name": "python",
   "nbconvert_exporter": "python",
   "pygments_lexer": "ipython3",
   "version": "3.5.2"
  }
 },
 "nbformat": 4,
 "nbformat_minor": 1
}

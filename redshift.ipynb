{
 "cells": [
  {
   "cell_type": "markdown",
   "metadata": {},
   "source": [
    "# Import stuff"
   ]
  },
  {
   "cell_type": "code",
   "execution_count": null,
   "metadata": {
    "collapsed": true
   },
   "outputs": [],
   "source": [
    "# %matplotlib inline\n",
    "# %matplotlib notebook\n",
    "\n",
    "import numpy as np\n",
    "import matplotlib.pyplot as plt\n",
    "import scipy.stats as st\n",
    "from matplotlib import rcParams"
   ]
  },
  {
   "cell_type": "markdown",
   "metadata": {},
   "source": [
    "# Define functions"
   ]
  },
  {
   "cell_type": "code",
   "execution_count": null,
   "metadata": {
    "collapsed": false
   },
   "outputs": [],
   "source": [
    "def get_data(line_number, filename = 'redshift.txt'): # read the data from the file\n",
    "\n",
    "    lists = open(filename).read().splitlines()\n",
    "    lists = lists[line_number].split(', ')\n",
    "    lists = list(map(float, lists))\n",
    "    return lists\n",
    "\n",
    "def averages(BLLac, FSRQ, other): # print the average redshifts\n",
    "    \n",
    "    print('N        = ' + str(len(BLLac) + len(FSRQ) + len(other)))\n",
    "    print('<BL Lac> = ' + str(round(np.mean(BLLac), 2)))\n",
    "    print('<FSRQ>   = ' + str(round(np.mean(FSRQ), 2)))\n",
    "    \n",
    "def plotting(BLLac, FSRQ, other, plot, y_limit, save_name): # plot the data\n",
    "    \n",
    "    color = 'black'\n",
    "\n",
    "    if plot:\n",
    "        color = 'white'\n",
    "\n",
    "    bins = np.linspace(0, 5, 11)\n",
    "    \n",
    "    plt.rcParams['font.family'] = 'serif'\n",
    "    plt.figure(figsize = (13.92, 8.60))\n",
    "\n",
    "    plt.hist(BLLac, bins = bins, alpha = 1, lw = 4, histtype = 'step', fill = False, color = 'red', label = 'BL Lacs')\n",
    "    plt.hist(FSRQ, bins = bins, alpha = 1, lw = 4, histtype = 'step', fill = False, color = 'blue', label = 'FSRQs', linestyle = '--')\n",
    "    plt.hist(other, bins = bins, alpha = 1, lw = 4, histtype = 'step', fill = False, color = 'black', label = 'Others', linestyle = '-.')\n",
    "\n",
    "    plt.xlabel('$z$', fontsize = 30, color = color)\n",
    "    plt.ylabel('$N$', fontsize = 30, color = color)\n",
    "    plt.xlim(0, 4.5)\n",
    "    plt.ylim(0, y_limit)\n",
    "\n",
    "    plt.xticks(fontsize = 30, color = color)\n",
    "    plt.yticks(fontsize = 30, color = color)\n",
    "\n",
    "    ax = plt.gca()\n",
    "    yticks = ax.yaxis.get_major_ticks() \n",
    "    yticks[0].label1.set_visible(False)\n",
    "\n",
    "    legend = plt.legend(bbox_to_anchor = (0, 1.0, 1, 0), loc = 'lower left', mode = 'expand', numpoints = 1, fontsize = 30, ncol = 4,\n",
    "                      frameon = False)\n",
    "    plt.setp(legend.get_texts(), color = color)\n",
    "\n",
    "    if not plot:\n",
    "        plt.savefig('redshift-' + str(save_name) + '.pdf', bbox_inches = 'tight', format = 'pdf')\n",
    "    elif plot:\n",
    "        plt.show()\n",
    "\n",
    "    plt.show()\n",
    "    \n",
    "def make_plots(the_name, line0, line1, line2, plot_to_notebook, y_limit): # call the get_data, averages, and plotting functions\n",
    "    BLLac = get_data(line0)\n",
    "    FSRQ  = get_data(line1)\n",
    "    other = get_data(line2)\n",
    "\n",
    "    averages(BLLac, FSRQ, other)\n",
    "    plotting(BLLac, FSRQ, other, plot_to_notebook, y_limit, the_name)\n",
    "    \n",
    "def ks_test(label, sample1, sample2):\n",
    "    sample1_sample2 = st.ks_2samp(sample1, sample2)\n",
    "    print(str(label) + ' K-S statistic = ' + str(round(sample1_sample2[0], 4)))\n",
    "    print(str(label) + ' K-S p-value   = ' + str(round(sample1_sample2[1], 4)))"
   ]
  },
  {
   "cell_type": "markdown",
   "metadata": {},
   "source": [
    "# Plot the data\n",
    "The redshifts for my sample were taken from 3LAC in the first instance. If there was no redshift value there, it was taken from BZCAT. Values flagged with a question mark were used. If there was no redshift value there, NED was checked. If there was no value there, it was excluded."
   ]
  },
  {
   "cell_type": "code",
   "execution_count": null,
   "metadata": {
    "collapsed": false
   },
   "outputs": [],
   "source": [
    "if __name__ == '__main__':\n",
    "    make_plots('sample', 6, 7, 8, False, 15)"
   ]
  },
  {
   "cell_type": "code",
   "execution_count": null,
   "metadata": {
    "collapsed": false
   },
   "outputs": [],
   "source": [
    "if __name__ == '__main__':\n",
    "    make_plots('bzcat', 11, 12, 13, False, 600)"
   ]
  },
  {
   "cell_type": "code",
   "execution_count": null,
   "metadata": {
    "collapsed": false
   },
   "outputs": [],
   "source": [
    "if __name__ == '__main__':\n",
    "    make_plots('3fgl', 16, 17, 18, False, 250)"
   ]
  },
  {
   "cell_type": "markdown",
   "metadata": {},
   "source": [
    "# Kolmogorov-Smirnov test\n",
    "See [the SiPy documentation](https://docs.scipy.org/doc/scipy-0.19.0/reference/generated/scipy.stats.ks_2samp.html) for more.\n",
    "\n",
    "###### What is the Kolmogorov-Smirnov (K-S) test?\n",
    "It can be used with redshift. Use it to test the redshift distance versus all of the 3LAC or BZCAT. e.g.\n",
    "> The K-S test probability that the LAT and non-LAT BL Lac objects belong to the same parent population is 38%.\n",
    "\n",
    "> To examine the likelihood that the BL Lac objects and FSRQs were unrelated, we used the K-S. The K-S test returned an 8% probability that the 3FGL BL Lac objects and FSRQs were drawn from the same parent population."
   ]
  },
  {
   "cell_type": "code",
   "execution_count": null,
   "metadata": {
    "collapsed": false
   },
   "outputs": [],
   "source": [
    "if __name__ == '__main__':\n",
    "\n",
    "    sample = get_data(6) + get_data(7) + get_data(8)\n",
    "    bzcat = get_data(11) + get_data(12) + get_data(13)\n",
    "    fgl = get_data(16) + get_data(17) + get_data(18)\n",
    "\n",
    "    ks_test('Sample & BZCAT', sample, bzcat)\n",
    "    ks_test('Sample & 3FGL', sample, fgl)\n",
    "    ks_test('BZCAT & 3FGL', bzcat, fgl)"
   ]
  }
 ],
 "metadata": {
  "anaconda-cloud": {},
  "kernelspec": {
   "display_name": "Python [conda root]",
   "language": "python",
   "name": "conda-root-py"
  },
  "language_info": {
   "codemirror_mode": {
    "name": "ipython",
    "version": 3
   },
   "file_extension": ".py",
   "mimetype": "text/x-python",
   "name": "python",
   "nbconvert_exporter": "python",
   "pygments_lexer": "ipython3",
   "version": "3.5.2"
  }
 },
 "nbformat": 4,
 "nbformat_minor": 1
}

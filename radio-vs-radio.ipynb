{
 "cells": [
  {
   "cell_type": "markdown",
   "metadata": {},
   "source": [
    "# Import stuff"
   ]
  },
  {
   "cell_type": "code",
   "execution_count": 9,
   "metadata": {
    "collapsed": true
   },
   "outputs": [],
   "source": [
    "import numpy as np\n",
    "import matplotlib.pyplot as plt\n",
    "from scipy.odr import *\n",
    "from scipy import stats\n",
    "from matplotlib import rcParams\n",
    "from ipynb.fs.full.redshift import get_data"
   ]
  },
  {
   "cell_type": "markdown",
   "metadata": {},
   "source": [
    "# Define functions"
   ]
  },
  {
   "cell_type": "code",
   "execution_count": 10,
   "metadata": {
    "collapsed": true
   },
   "outputs": [],
   "source": [
    "def linear(p, x): # fit a line\n",
    "    return p[1] * x + p[0]\n",
    "\n",
    "def power(p, x): # fit a power law\n",
    "    return p[0] * x ** p[1]"
   ]
  },
  {
   "cell_type": "markdown",
   "metadata": {},
   "source": [
    "# Get data"
   ]
  },
  {
   "cell_type": "code",
   "execution_count": 27,
   "metadata": {
    "collapsed": false
   },
   "outputs": [],
   "source": [
    "data = np.genfromtxt('main.csv', delimiter = ',', dtype = None, names = True)\n",
    "# print(data.dtype.names)\n",
    "\n",
    "lotss_flux       = data['lofTotal_flux'          ]\n",
    "lotss_flux_error = data['lofE_Total_flux_tot'    ]\n",
    "nvss_flux        = data['NVSS_Jy'                ]\n",
    "nvss_flux_error  = data['NVSS_error_Jy'          ]\n",
    "source_type1     = data['lacOpticalClass'        ]\n",
    "source_type2     = data['bzcSourceclassification']\n",
    "\n",
    "lotss_flux       = [i / 1000 for i in lotss_flux      ] # convert to Jansky\n",
    "lotss_flux_error = [i / 1000 for i in lotss_flux_error] # convert to Jansky\n",
    "\n",
    "source_type = []\n",
    "\n",
    "for i in range(len(source_type1)): # take classification from 3LAC in the first instance and BZCAT after\n",
    "    if str(source_type1[i])[2:-2] == 'bll':\n",
    "        source_type.append('BLLac')\n",
    "    elif str(source_type1[i])[2:-2] == 'fsrq':\n",
    "        source_type.append('FSRQ')\n",
    "    elif len(str(source_type1[i])[2:-2]) > 0:\n",
    "        source_type.append('other')\n",
    "    elif str(source_type2[i])[2:-2] == 'BL Lac':\n",
    "        source_type.append('BLLac')\n",
    "    elif  str(source_type2[i])[2:-2] == 'QSO RLoud flat radio sp.':\n",
    "        source_type.append('FSRQ')\n",
    "    else:\n",
    "        source_type.append('other')\n",
    "        \n",
    "BLLac_MHz, BLLac_MHz_error, BLLac_GHz, BLLac_GHz_error = [], [], [], []\n",
    "FSRQ_MHz,  FSRQ_MHz_error,  FSRQ_GHz,  FSRQ_GHz_error  = [], [], [], []\n",
    "other_MHz, other_MHz_error, other_GHz, other_GHz_error = [], [], [], []\n",
    "\n",
    "for i in range(len(lotss_flux)):\n",
    "    if source_type[i] == 'BLLac':\n",
    "        BLLac_MHz.append(lotss_flux[i])\n",
    "        BLLac_MHz_error.append(lotss_flux_error[i])\n",
    "        BLLac_GHz.append(nvss_flux[i])\n",
    "        BLLac_GHz_error.append(nvss_flux_error[i])\n",
    "    elif source_type[i] == 'FSRQ':\n",
    "        FSRQ_MHz.append(lotss_flux[i])\n",
    "        FSRQ_MHz_error.append(lotss_flux_error[i])\n",
    "        FSRQ_GHz.append(nvss_flux[i])\n",
    "        FSRQ_GHz_error.append(nvss_flux_error[i])\n",
    "    else:\n",
    "        other_MHz.append(lotss_flux[i])\n",
    "        other_MHz_error.append(lotss_flux_error[i])\n",
    "        other_GHz.append(nvss_flux[i])\n",
    "        other_GHz_error.append(nvss_flux_error[i])"
   ]
  },
  {
   "cell_type": "markdown",
   "metadata": {},
   "source": [
    "# Find the line of best fit\n",
    "I use SciPy's [orthogonal distance regression](https://docs.scipy.org/doc/scipy/reference/odr.html)."
   ]
  },
  {
   "cell_type": "code",
   "execution_count": 28,
   "metadata": {
    "collapsed": false
   },
   "outputs": [
    {
     "name": "stdout",
     "output_type": "stream",
     "text": [
      "r = 0.7664 r^2 = 0.5873 N = 98 t = 11.6894 p = 3.20e-20\n"
     ]
    }
   ],
   "source": [
    "lotss_weight, nvss_weight = [], []\n",
    "\n",
    "for i in range(len(lotss_flux)):\n",
    "    lotss_weight.append(lotss_flux[i] / (lotss_flux_error[i]))\n",
    "    nvss_weight.append(nvss_flux[i] / (nvss_flux_error[i]))\n",
    "    \n",
    "model = Model(linear)\n",
    "data = Data(np.log(lotss_flux), np.log(nvss_flux), wd = lotss_weight, we = nvss_weight)\n",
    "odr = ODR(data, model, beta0 = [-1, 0.8])\n",
    "odr.set_job(fit_type = 0)\n",
    "out = odr.run()\n",
    "# out.pprint()\n",
    "\n",
    "cov_x_y = out.cov_beta[0][1]\n",
    "var_x = out.cov_beta[0][0]\n",
    "var_y = out.cov_beta[1][1]\n",
    "r2 = (cov_x_y ** 2) / (var_x * var_y)\n",
    "r = np.sqrt(r2)\n",
    "N = len(lotss_flux)\n",
    "t = r / np.sqrt((1 - r2)/(N - 2))\n",
    "p = stats.t.sf(np.abs(t), N - 1) * 2\n",
    "\n",
    "print('r =', round(r, 4), 'r^2 =', round(r2, 4), 'N =', N, 't =', round(t, 4), 'p =', '{:.2e}'.format(p))\n",
    "\n",
    "out.beta[0] = np.exp(out.beta[0])\n",
    "\n",
    "lotss_fit = np.linspace(min(lotss_flux), max(lotss_flux), 1000)\n",
    "nvss_fit = power(out.beta, lotss_fit)"
   ]
  },
  {
   "cell_type": "markdown",
   "metadata": {},
   "source": [
    "# Make the plot"
   ]
  },
  {
   "cell_type": "code",
   "execution_count": 38,
   "metadata": {
    "collapsed": false
   },
   "outputs": [],
   "source": [
    "plot = False\n",
    "\n",
    "color = 'black'\n",
    "line = [1e-5, 1e3]\n",
    "\n",
    "if plot:\n",
    "    color = 'white'\n",
    "\n",
    "plt.rcParams['font.family'] = 'serif'\n",
    "plt.figure(figsize = (13.92, 8.60))\n",
    "\n",
    "plt.plot(line, line, linestyle = '--', color = 'grey', linewidth = 2)\n",
    "plt.errorbar(BLLac_MHz, BLLac_GHz, xerr = BLLac_MHz_error, yerr = BLLac_GHz_error, linestyle = 'None', marker = 'o', markersize = 8, color = 'red', label = 'BL Lacs')\n",
    "plt.errorbar(FSRQ_MHz, FSRQ_GHz, xerr = FSRQ_MHz_error, yerr = FSRQ_GHz_error, linestyle = 'None', marker = '^', markersize = 8, color = 'blue', label = 'FSRQs')\n",
    "plt.errorbar(other_MHz, other_GHz, xerr = other_MHz_error, yerr = other_GHz_error, linestyle = 'None', marker = 's', markersize = 8, color = 'green', label = 'Other')\n",
    "#plt.errorbar(lotss_flux, nvss_flux, xerr = lotss_flux_error, yerr = nvss_flux_error, linestyle = 'None', marker = 'x', markersize = 2, color = 'black')\n",
    "plt.plot(lotss_fit, nvss_fit, color = 'black', linewidth = 2)\n",
    "\n",
    "plt.xlim(9e-4, 2e1)\n",
    "plt.ylim(9e-4, 2e1)\n",
    "\n",
    "plt.xscale('log')\n",
    "plt.yscale('log')\n",
    "plt.xlabel(r'$S_{\\mathrm{MHz}}$ (Jy)', fontsize = 30, color = color)\n",
    "plt.ylabel(r'$S_{\\mathrm{GHz}}$ (Jy)', fontsize = 30, color = color)\n",
    "plt.xticks(fontsize = 30, color = color)\n",
    "plt.yticks(fontsize = 30, color = color)\n",
    "\n",
    "legend = plt.legend(bbox_to_anchor = (0, 1.0, 1, 0), loc = 'lower left', mode = 'expand', numpoints = 1, fontsize = 30, ncol = 4, frameon = False)\n",
    "plt.setp(legend.get_texts(), color = color)\n",
    "\n",
    "plt.annotate('1', (0.0012768962941999999, 0.023623499999999999), ha = 'center', fontsize = 30)\n",
    "plt.annotate('2', (0.0025004658568000002, 0.053153499999999999), ha = 'center', fontsize = 30)\n",
    "plt.annotate('3', (0.0079077353842999989, 0.095895499999999995), ha = 'center', fontsize = 30)\n",
    "plt.annotate('4', (0.0302021013897, 0.00355514), ha = 'center', fontsize = 30)\n",
    "\n",
    "if not plot:\n",
    "    plt.savefig('radio_vs_radio.pdf', bbox_inches = 'tight', format = 'pdf')\n",
    "elif plot:\n",
    "    plt.show()"
   ]
  }
 ],
 "metadata": {
  "anaconda-cloud": {},
  "kernelspec": {
   "display_name": "Python [default]",
   "language": "python",
   "name": "python3"
  },
  "language_info": {
   "codemirror_mode": {
    "name": "ipython",
    "version": 3
   },
   "file_extension": ".py",
   "mimetype": "text/x-python",
   "name": "python",
   "nbconvert_exporter": "python",
   "pygments_lexer": "ipython3",
   "version": "3.5.2"
  }
 },
 "nbformat": 4,
 "nbformat_minor": 1
}

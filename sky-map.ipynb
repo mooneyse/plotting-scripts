{
 "cells": [
  {
   "cell_type": "markdown",
   "metadata": {},
   "source": [
    "# Import stuff"
   ]
  },
  {
   "cell_type": "code",
   "execution_count": 1,
   "metadata": {
    "collapsed": false
   },
   "outputs": [],
   "source": [
    "%matplotlib inline\n",
    "%matplotlib notebook\n",
    "\n",
    "import sys\n",
    "import PIL\n",
    "import numpy as np\n",
    "import matplotlib.pyplot as plt\n",
    "from astropy import units as u\n",
    "from astropy.coordinates import SkyCoord\n",
    "from astropy.io import fits"
   ]
  },
  {
   "cell_type": "markdown",
   "metadata": {},
   "source": [
    "# Load the data"
   ]
  },
  {
   "cell_type": "code",
   "execution_count": 2,
   "metadata": {
    "collapsed": false
   },
   "outputs": [],
   "source": [
    "f = fits.open('/home/sean/Downloads/LOFAR_HBA_T1_DR1_catalog_v0.9.srl.fixed.fits') # LoTSS\n",
    "# '/mnt/closet/data/lotss.fits', 'LOFAR_HBA_T1_DR1_merge_ID_optical_v0.7.fits'\n",
    "\n",
    "h = f[1]\n",
    "lotss_ra  = h.data['RA' ] # degrees\n",
    "lotss_dec = h.data['DEC'] # degrees\n",
    "f.close()\n",
    "\n",
    "f = fits.open('/mnt/closet/data/3fgl.fits') # 3FGL\n",
    "h = f[1]\n",
    "fgl_ra  = h.data['RAJ2000']\n",
    "fgl_dec = h.data['DEJ2000']\n",
    "fgl_l   = h.data['GLON   ']\n",
    "fgl_b   = h.data['GLAT   ']\n",
    "f.close()\n",
    "\n",
    "f = np.genfromtxt('/mnt/closet/data/bzcat.txt', skip_header = 1, delimiter = '|', dtype = str) # BZCAT\n",
    "bz_ra  = f[:, 2].astype(np.float)\n",
    "bz_dec = f[:, 3].astype(np.float)\n",
    "\n",
    "f = np.genfromtxt('/mnt/closet/data/tevcat.txt', delimiter = '\\t', dtype = float, usecols = (0, 1)) # TEVCAT\n",
    "tev_ra  = f[:, 0]\n",
    "tev_dec = f[:, 1]"
   ]
  },
  {
   "cell_type": "markdown",
   "metadata": {},
   "source": [
    "# Convert to galactic coordinates"
   ]
  },
  {
   "cell_type": "code",
   "execution_count": 3,
   "metadata": {
    "collapsed": true
   },
   "outputs": [],
   "source": [
    "def convert(ra, dec):\n",
    "    c = SkyCoord(ra = ra * u.degree, dec = dec * u.degree, frame = 'icrs')\n",
    "    l = c.galactic.l\n",
    "    b = c.galactic.b\n",
    "    return l, b\n",
    "\n",
    "lotss_l, lotss_b = convert(lotss_ra, lotss_dec)\n",
    "bz_l, bz_b = convert(bz_ra, bz_dec)\n",
    "tev_l, tev_b = convert(tev_ra, tev_dec)"
   ]
  },
  {
   "cell_type": "markdown",
   "metadata": {},
   "source": [
    "# Function to combine images"
   ]
  },
  {
   "cell_type": "code",
   "execution_count": 4,
   "metadata": {
    "collapsed": true
   },
   "outputs": [],
   "source": [
    "def combine(file1, file2):\n",
    "    \n",
    "    list_im   = [file1, file2]\n",
    "    imgs      = [PIL.Image.open(i) for i in list_im]\n",
    "    min_shape = sorted([(np.sum(i.size), i.size) for i in imgs])[0][1]\n",
    "    imgs_comb = np.hstack((np.asarray(i.resize(min_shape)) for i in imgs))\n",
    "    imgs_comb = PIL.Image.fromarray(imgs_comb)\n",
    "    imgs_comb.save('sky-map-combined.png') "
   ]
  },
  {
   "cell_type": "markdown",
   "metadata": {},
   "source": [
    "# Function to plot the data"
   ]
  },
  {
   "cell_type": "code",
   "execution_count": 5,
   "metadata": {
    "collapsed": false
   },
   "outputs": [],
   "source": [
    "def plotting(lotss1, lotss2, bz1, bz2, fgl1, fgl2, tev1, tev2, coordinates, plot, size):\n",
    "\n",
    "    color = 'black'\n",
    "    if plot:\n",
    "        color = 'white'\n",
    "    if size == 'all':\n",
    "        markers = 4\n",
    "    else:\n",
    "        markers = 6\n",
    "\n",
    "    plt.rcParams['font.family'] = 'serif'\n",
    "    plt.figure(figsize = (13.92, 8.60))\n",
    "    \n",
    "    plt.plot(lotss1, lotss2, ls = 'None', color = 'tomato', marker = '.', markersize = 4, label = 'LoTSS')\n",
    "    plt.plot(fgl1, fgl2, ls = 'None', color = 'darkseagreen', marker = 's', markersize = markers, label = '3FGL')\n",
    "    plt.plot(bz1, bz2, ls = 'None', color = 'royalblue', marker = '^', markersize = markers, label = 'BZCAT')\n",
    "    plt.plot(tev1, tev2, ls = 'None', color = 'palevioletred', marker = '8', markersize = markers, label = 'TEVCAT')\n",
    "        \n",
    "    if size == 'all':\n",
    "        if coordinates == 'ra, dec':\n",
    "            plt.xlim(0, 360)\n",
    "            plt.ylim(-90, 90)\n",
    "            plt.xticks(range(0, 361, 90), fontsize = 30, color = color)\n",
    "            plt.yticks(range(-45, 91, 45), fontsize = 30, color = color)            \n",
    "            \n",
    "        else:\n",
    "            plt.xlim(0, 180)\n",
    "            plt.ylim(-90, 90)\n",
    "            plt.xticks(range(0, 361, 90), [-180, -90, 0, 90, 180], fontsize = 30, color = color)\n",
    "            plt.yticks(range(-45, 91, 45), fontsize = 30, color = color)\n",
    "        \n",
    "    else:\n",
    "        if coordinates == 'ra, dec':\n",
    "            plt.xlim(min(lotss_ra), max(lotss_ra))\n",
    "            plt.ylim(min(lotss_dec), max(lotss_dec))\n",
    "            plt.xticks([180], fontsize = 30, color = color)\n",
    "            plt.yticks([], [], fontsize = 30, color = color)            \n",
    "                       \n",
    "        else:\n",
    "            plt.xlim(76.322, 166.807)\n",
    "            plt.ylim(51.4536, 71.2585)\n",
    "            plt.xticks(range(90, 166, 90), fontsize = 30, color = color)\n",
    "            plt.yticks([], [], fontsize = 30, color = color)\n",
    "        \n",
    "    if coordinates == 'ra, dec':\n",
    "        plt.xlabel('Right ascension (degrees)', fontsize = 30, color = color)\n",
    "        plt.ylabel('Declination (degrees)', fontsize = 30, color = color)\n",
    "        \n",
    "    else:\n",
    "        plt.xlabel('Longitude (degrees)', fontsize = 30, color = color)\n",
    "        plt.ylabel('Latitude (degrees)', fontsize = 30, color = color)\n",
    "   \n",
    "    plt.grid(color = 'black', linestyle = 'dashed', linewidth = 1)\n",
    "    \n",
    "    legend = plt.legend(bbox_to_anchor = (0, 1.0, 1, 0), loc = 'lower left', mode = 'expand', numpoints = 1, fontsize = 30, ncol = 4,\n",
    "                     frameon = False, markerscale = 5)\n",
    "    plt.setp(legend.get_texts(), color = color)\n",
    "\n",
    "    if not plot:\n",
    "        plt.savefig('sky-map-' + str(size) + '.png', bbox_inches = 'tight', format = 'png')\n",
    "    elif plot:\n",
    "        plt.show()"
   ]
  },
  {
   "cell_type": "markdown",
   "metadata": {},
   "source": [
    "# Make the pliot"
   ]
  },
  {
   "cell_type": "code",
   "execution_count": null,
   "metadata": {
    "collapsed": false
   },
   "outputs": [],
   "source": [
    "make_plots = 'ra, dec'\n",
    "plot = False\n",
    "\n",
    "if make_plots == 'ra, dec':\n",
    "    plotting(lotss_ra, lotss_dec, bz_ra, bz_dec, fgl_ra, fgl_dec, tev_ra, tev_dec, 'ra, dec', plot, 'all')\n",
    "    plotting(lotss_ra, lotss_dec, bz_ra, bz_dec, fgl_ra, fgl_dec, tev_ra, tev_dec, 'ra, dec', plot, 'lotss')\n",
    "else:\n",
    "    plotting(lotss_l, lotss_b, bz_l, bz_b, fgl_l, fgl_b, tev_l, tev_b, 'l, b', plot, 'all')    \n",
    "    plotting(lotss_l, lotss_b, bz_l, bz_b, fgl_l, fgl_b, tev_l, tev_b, 'l, b', plot, 'lotss')\n",
    "    \n",
    "if not plot:\n",
    "    combine('sky-map-all.png', 'sky-map-lotss.png')"
   ]
  }
 ],
 "metadata": {
  "anaconda-cloud": {},
  "kernelspec": {
   "display_name": "Python [default]",
   "language": "python",
   "name": "python3"
  },
  "language_info": {
   "codemirror_mode": {
    "name": "ipython",
    "version": 3
   },
   "file_extension": ".py",
   "mimetype": "text/x-python",
   "name": "python",
   "nbconvert_exporter": "python",
   "pygments_lexer": "ipython3",
   "version": "3.5.2"
  }
 },
 "nbformat": 4,
 "nbformat_minor": 1
}

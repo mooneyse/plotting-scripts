{
 "cells": [
  {
   "cell_type": "markdown",
   "metadata": {},
   "source": [
    "# The theory"
   ]
  },
  {
   "cell_type": "markdown",
   "metadata": {},
   "source": [
    "This is calculated as per section 3.3 in Lister et al. (2011). The $\\gamma$-ray loudness, $G$, is defined as\n",
    "\n",
    "$$ G = \\frac{L_\\gamma}{L_\\mathrm{r}} $$\n",
    "\n",
    "where $L_\\gamma$ is the $\\gamma$-ray luminosity and $L_\\mathrm{r}$ is the radio luminosity. We can calculate $L_\\gamma$ according to\n",
    "\n",
    "$$ L_\\gamma = \\frac{4 \\, \\pi \\, d^2 \\, S_\\gamma}{(1 + z)^{2 - \\Gamma}} $$\n",
    "\n",
    "where $d$ is the luminosity distance, $S_\\gamma$ is the energy flux ($\\mathrm{erg}\\,\\mathrm{cm}^{-2}\\,\\mathrm{s}^{-1}$), $z$ is the redshift, and $\\Gamma$ is the photon spectral index. We can find $L_\\mathrm{r}$ using\n",
    "\n",
    "$$ L_\\mathrm{r} = \\frac{4 \\, \\pi \\, d^2 \\, \\Delta \\nu \\, S_\\mathrm{r}}{(1 + z)} $$\n",
    "\n",
    "where $\\Delta\\nu$ is the bandwidth of the radio measurement, $S_\\mathrm{r}$ is the radio flux density ($\\mathrm{Jy}$), and we have assumed a flat radio spectral index. Then we have\n",
    "\n",
    "$$ G = \\frac{S_\\gamma}{\\Delta \\nu \\, S_\\mathrm{r}} \\, \\frac{1}{(1 + z)^{1 - \\Gamma}} $$\n",
    "\n",
    "The uncertainty on $G$ is\n",
    "\n",
    "\\begin{align*}\n",
    "\\Delta G &= \\sqrt{\\bigg({\\frac{\\delta G}{\\delta S_\\gamma}} \\, \\Delta S_\\gamma \\bigg)^2 + \\bigg({\\frac{\\delta G}{\\delta S_\\mathrm{r}}} \\, \\Delta S_\\mathrm{r} \\bigg)^2 + \\bigg({\\frac{\\delta G}{\\delta \\Gamma}} \\, \\Delta \\Gamma \\bigg)^2} \\\\\n",
    "&= \\sqrt{ \\bigg( \\frac{1}{\\Delta \\nu \\, S_\\mathrm{r}} \\, \\frac{1}{(1 + z)^{1 - \\Gamma}} \\, \\Delta S_\\gamma\\bigg)^2 +\n",
    "\\bigg(\\frac{-S_\\gamma}{\\Delta \\nu \\, S_\\mathrm{r}^2} \\, \\frac{1}{(1 + z)^{1 - \\Gamma}} \\, \\Delta S_\\mathrm{r}\\bigg)^2 +\n",
    "\\bigg( \\frac{S_\\gamma}{\\Delta \\nu \\, S_\\mathrm{r}} \\, \\frac{\\ln (z + 1)}{(1 + z)^{1 - \\Gamma}} \\, \\Delta \\Gamma \\bigg)^2}\n",
    "\\end{align*}"
   ]
  },
  {
   "cell_type": "markdown",
   "metadata": {},
   "source": [
    "# Get the data"
   ]
  },
  {
   "cell_type": "code",
   "execution_count": 1,
   "metadata": {
    "collapsed": false
   },
   "outputs": [],
   "source": [
    "from astropy.io import fits\n",
    "from numpy      import corrcoef, log, mean, sqrt\n",
    "from ipynb.fs.full.redshift import get_data"
   ]
  },
  {
   "cell_type": "code",
   "execution_count": 2,
   "metadata": {
    "collapsed": false
   },
   "outputs": [],
   "source": [
    "filename      = 'gamma-ray-loudness.txt'\n",
    "sources       = ['3FGL J1058.6+5627', '3FGL J1117.9+5355', '3FGL J1124.9+4932', '3FGL J1138.2+4905', '3FGL J1153.4+4932', '3FGL J1208.7+5442', '3FGL J1212.6+5135', '3FGL J1215.0+5002', '3FGL J1224.5+4957', '3FGL J1228.7+4857', '3FGL J1248.0+5130', '3FGL J1253.2+5300', '3FGL J1310.7+5515', '3FGL J1312.7+4828', '3FGL J1330.9+5201', '3FGL J1331.8+4718', '3FGL J1333.7+5057', '3FGL J1341.5+5517', '3FGL J1359.0+5544', '3FGL J1415.2+4832', '3FGL J1419.9+5425', '3FGL J1436.8+5639', '3FGL J1440.1+4955', '3FGL J1442.6+5156', '3FGL J1450.9+5200', '3FGL J1454.5+5124', '3FGL J1500.6+4750', '3FGL J1503.7+4759']\n",
    "S_gamma       = [] # gamma-ray energy flux in erg/cm^2/s\n",
    "S_gamma_error = [] # gamma-ray energy flux uncertainty in erg/cm^2/s\n",
    "Gamma         = [] # gamma-ray photon spectral index\n",
    "Gamma_error   = [] # gamma-ray photon spectral index uncertainty\n",
    "S_r           = get_data(7, filename) # radio flux density in Jansky\n",
    "S_r_error     = get_data(8, filename) # radio flux density uncertainty in Jansky\n",
    "alpha         = get_data(9, filename) # spectral index\n",
    "alpha_error   = get_data(10, filename) # spectral index uncertainty\n",
    "z             = get_data(11, filename) # redshift\n",
    "Delta_nu      = (168 - 140) * 1e6 # bandwidth in Hertz\n",
    "\n",
    "h = fits.open('../../data/3fgl.fits') # downloaded from https://fermi.gsfc.nasa.gov/ssc/data/access/lat/4yr_catalog/gll_psc_v16.fit\n",
    "Source_Name        = h[1].data['Source_Name'       ]\n",
    "Energy_Flux100     = h[1].data['Energy_Flux100'    ]\n",
    "Unc_Energy_Flux100 = h[1].data['Unc_Energy_Flux100']\n",
    "Spectral_Index     = h[1].data['Spectral_Index'    ]\n",
    "Unc_Spectral_Index = h[1].data['Unc_Spectral_Index']\n",
    "h.close()\n",
    "\n",
    "for source in sources:\n",
    "    for i in range(len(Source_Name)):\n",
    "        if source == Source_Name[i]:\n",
    "            S_gamma.append(Energy_Flux100[i])\n",
    "            S_gamma_error.append(Unc_Energy_Flux100[i])\n",
    "            Gamma.append(Spectral_Index[i])\n",
    "            Gamma_error.append(Unc_Spectral_Index[i])"
   ]
  },
  {
   "cell_type": "markdown",
   "metadata": {},
   "source": [
    "# Calculate $G$"
   ]
  },
  {
   "cell_type": "code",
   "execution_count": 3,
   "metadata": {
    "collapsed": false
   },
   "outputs": [],
   "source": [
    "G, G_error, G_alpha_not_0 = [], [], []\n",
    "\n",
    "for i in range(len(sources)):\n",
    "    G.append((S_gamma[i] / (1e-23 * Delta_nu * S_r[i])) * (1 / ((1 + z[i]) ** (1 - Gamma[i]))))\n",
    "    \n",
    "ln_G, ln_G_error = log(G), []\n",
    "\n",
    "for i in range(len(sources)):\n",
    "    G_error.append(sqrt(\n",
    "    ((1 / (1e-23 * Delta_nu * S_r_error[i])) * (1 / ((1 + z[i]) ** (1 - Gamma[i]))) * S_gamma_error[i]) ** 2 +\n",
    "    ((- S_gamma[i] / (1e-23 * Delta_nu * (S_r[i] ** 2))) * (1 / ((1 + z[i]) ** (1 - Gamma[i]))) * S_r_error[i]) ** 2 +\n",
    "    ((S_gamma[i] / (1e-23 * Delta_nu * S_r[i])) * (log(z[i] + 1) / ((1 + z[i]) ** (1 - Gamma[i]))) * Gamma_error[i]) ** 2))\n",
    "    \n",
    "for i in range(len(sources)):\n",
    "    ln_G_error.append(G_error[i] / G[i])\n",
    "    \n",
    "for i in range(len(sources)):\n",
    "    G_alpha_not_0.append((S_gamma[i] / (1e-23 * Delta_nu * S_r[i])) * (((1 + z[i]) ** (1 - alpha[i])) / ((1 + z[i]) ** (2 - Gamma[i]))))\n",
    "    \n",
    "ln_G_alpha_not_0 = log(G_alpha_not_0)"
   ]
  },
  {
   "cell_type": "markdown",
   "metadata": {},
   "source": [
    "# $G$ correlations"
   ]
  },
  {
   "cell_type": "code",
   "execution_count": 5,
   "metadata": {
    "collapsed": false
   },
   "outputs": [
    {
     "name": "stdout",
     "output_type": "stream",
     "text": [
      "r(Gamma, G)                 = -0.11\n",
      "r(Gamma, ln(G))             = 0.07\n",
      "r(Gamma, ln(G_alpha_not_0)) = 0.06\n"
     ]
    }
   ],
   "source": [
    "print('r(Gamma, G)                 = ' + str(round(corrcoef(Gamma, G)[1, 0], 2)))\n",
    "print('r(Gamma, ln(G))             = ' + str(round(corrcoef(Gamma, ln_G)[1, 0], 2)))\n",
    "print('r(Gamma, ln(G_alpha_not_0)) = ' + str(round(corrcoef(Gamma, ln_G_alpha_not_0)[1, 0], 2)))"
   ]
  },
  {
   "cell_type": "markdown",
   "metadata": {},
   "source": [
    "# $G$ for each subclass"
   ]
  },
  {
   "cell_type": "code",
   "execution_count": 11,
   "metadata": {
    "collapsed": false
   },
   "outputs": [
    {
     "name": "stdout",
     "output_type": "stream",
     "text": [
      "<HSP>    =  13.48 +/- 2.09 (N = 6)\n",
      "<ISP>    =  13.43 +/- 1.91 (N = 7)\n",
      "<LSP>    =  12.38 +/- 2.69 (N = 13)\n",
      "\n",
      "<BL Lac> =  12.94 +/- 3.21 (N = 16)\n",
      "<FSRQ>   =  12.55 +/- 1.84 (N = 8)\n",
      "<other>  =  12.13 +/- 2.1 (N = 4)\n"
     ]
    }
   ],
   "source": [
    "SED_class = ['HSP', 'HSP', 'HSP', 'LSP', 'LSP', 'LSP', 'HSP', 'ISP', '-', 'LSP', 'ISP', 'LSP', 'LSP', 'LSP', 'LSP', 'LSP', 'ISP', 'HSP', 'ISP', 'ISP', 'LSP', 'HSP', 'LSP', '-', 'ISP', 'ISP', 'LSP', 'LSP']\n",
    "blazar_class = ['bll', 'bll', 'bll', 'bcu II', 'fsrq', 'fsrq', 'bll', 'bll', 'fsrq', 'fsrq', 'bll', 'bll', 'fsrq', 'agn', 'bcu II', 'fsrq', 'fsrq', 'bll', 'fsrq', 'bll', 'bll', 'bll', 'bll', 'rdg', 'bll', 'bll', 'bll', 'bll']\n",
    "\n",
    "BL_Lac, BL_Lac_error, FSRQ, FSRQ_error, other, other_error = [], [], [], [], [], []\n",
    "HSP, HSP_error, ISP, ISP_error, LSP, LSP_error = [], [], [], [], [], []\n",
    "\n",
    "for i in range(len(sources)):\n",
    "    if SED_class[i] == 'HSP':\n",
    "        HSP.append(ln_G[i])\n",
    "        HSP_error.append(ln_G_error[i])\n",
    "    elif SED_class[i] == 'ISP':\n",
    "        ISP.append(ln_G[i])\n",
    "        ISP_error.append(ln_G_error[i])\n",
    "    elif SED_class[i] == 'LSP':\n",
    "        LSP.append(ln_G[i])\n",
    "        LSP_error.append(ln_G_error[i])\n",
    "        \n",
    "    if blazar_class[i] == 'bll':\n",
    "        BL_Lac.append(ln_G[i])\n",
    "        BL_Lac_error.append(ln_G_error[i])\n",
    "    elif blazar_class[i] == 'fsrq':\n",
    "        FSRQ.append(ln_G[i])\n",
    "        FSRQ_error.append(ln_G_error[i])\n",
    "    else:\n",
    "        other.append(ln_G[i])\n",
    "        other_error.append(ln_G_error[i])\n",
    "\n",
    "for i in range(len(BL_Lac)):\n",
    "    BL_Lac_error[i] = BL_Lac_error[i] ** 2\n",
    "\n",
    "for i in range(len(FSRQ)):\n",
    "    FSRQ_error[i] = FSRQ_error[i] ** 2\n",
    "\n",
    "for i in range(len(other)):\n",
    "    other_error[i] = other_error[i] ** 2\n",
    "    \n",
    "for i in range(len(HSP)):\n",
    "    HSP_error[i] = HSP_error[i] ** 2\n",
    "\n",
    "for i in range(len(ISP)):\n",
    "    ISP_error[i] = ISP_error[i] ** 2\n",
    "\n",
    "for i in range(len(LSP)):\n",
    "    LSP_error[i] = LSP_error[i] ** 2\n",
    "    \n",
    "print('<HSP>    = ', str(round(mean(HSP), 2)), '+/-', str(round(sqrt(sum(HSP_error)), 2)), '(N =', str(len(HSP)) + ')')\n",
    "print('<ISP>    = ', str(round(mean(ISP), 2)), '+/-', str(round(sqrt(sum(ISP_error)), 2)), '(N =', str(len(ISP)) + ')')\n",
    "print('<LSP>    = ', str(round(mean(LSP), 2)), '+/-', str(round(sqrt(sum(LSP_error)), 2)), '(N =', str(len(LSP)) + ')\\n')        \n",
    "        \n",
    "print('<BL Lac> = ', str(round(mean(BL_Lac), 2)), '+/-', str(round(sqrt(sum(BL_Lac_error)), 2)), '(N =', str(len(BL_Lac)) + ')')\n",
    "print('<FSRQ>   = ', str(round(mean(FSRQ), 2)), '+/-', str(round(sqrt(sum(FSRQ_error)), 2)), '(N =', str(len(FSRQ)) + ')')\n",
    "print('<other>  = ', str(round(mean(other), 2)), '+/-', str(round(sqrt(sum(other_error)), 2)), '(N =', str(len(other)) + ')')"
   ]
  }
 ],
 "metadata": {
  "anaconda-cloud": {},
  "kernelspec": {
   "display_name": "Python [conda root]",
   "language": "python",
   "name": "conda-root-py"
  },
  "language_info": {
   "codemirror_mode": {
    "name": "ipython",
    "version": 3
   },
   "file_extension": ".py",
   "mimetype": "text/x-python",
   "name": "python",
   "nbconvert_exporter": "python",
   "pygments_lexer": "ipython3",
   "version": "3.5.2"
  }
 },
 "nbformat": 4,
 "nbformat_minor": 1
}
